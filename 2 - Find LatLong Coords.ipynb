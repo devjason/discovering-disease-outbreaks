{
 "cells": [
  {
   "cell_type": "markdown",
   "metadata": {},
   "source": [
    "# Adding Latitude and Longitude Coordinates\n",
    "\n",
    "## Objective\n",
    "Find the geographic location of each headline in latitude and longitude coordinates from the city/country names.\n",
    "\n",
    "## Workflow\n",
    "\n",
    "\n",
    "1. Load in the pandas DataFrame with headline, countries, and cities.\n",
    "    * If a headline contains multiple cities/countries, decide which single one to keep.\n",
    "2. For each city/country, match the name to the latitude and longitude in geonamescache.\n",
    "    * You can use the function gc.get_cities_by_names_ _(“city_name”).\n",
    "    * Some cities will return multiple matches with the previous function in different countries. You’ll have to decide which city to keep based on a heuristic (rule of thumb).\n",
    "    * If you have trouble, work with a single problematic city until you figure it out, then write a function to apply on all headlines.\n",
    "3. Add longitude and latitude coordinates to your DataFrame for each headline.\n",
    "    * It will be helpful to get the countrycode of each headline at this point.\n",
    "    * If you were not able to find many countries, think about dropping the column. You also need to decide what to do with headlines that have no coordinates.\n",
    "    * You should end up with over 600 headlines that have geographic coordinates."
   ]
  },
  {
   "cell_type": "code",
   "execution_count": 1,
   "metadata": {},
   "outputs": [],
   "source": [
    "import pandas as pd\n",
    "import numpy as np\n",
    "import geonamescache\n",
    "\n",
    "gc = geonamescache.GeonamesCache()"
   ]
  },
  {
   "cell_type": "code",
   "execution_count": 2,
   "metadata": {},
   "outputs": [],
   "source": [
    "# Setup helpers\n",
    "from geonamescache.mappers import country\n",
    "isomapper = country(from_key='name', to_key='iso')"
   ]
  },
  {
   "cell_type": "code",
   "execution_count": 3,
   "metadata": {},
   "outputs": [
    {
     "output_type": "execute_result",
     "data": {
      "text/plain": "                                             headline country           city\n0                            Zika Outbreak Hits Miami    None          Miami\n1                     Could Zika Reach New York City?    None  New York City\n2                   First Case of Zika in Miami Beach    None    Miami Beach\n3             Mystery Virus Spreads in Recife, Brazil  Brazil         Recife\n4             Dallas man comes down with case of Zika    None         Dallas\n5                   Trinidad confirms first Zika case    None       Trinidad\n6              Zika Concerns are Spreading in Houston    None        Houston\n7               Geneve Scientists Battle to Find Cure    None         Geneve\n8               The CDC in Atlanta is Growing Worried    None        Atlanta\n9                  Zika Infested Monkeys in Sao Paulo    None      Sao Paulo\n10              Brownsville teen contracts Zika virus    None    Brownsville\n11  Mosquito control efforts in St. Louis take new...    None      St. Louis\n12  San Juan reports 1st U.S. Zika-related death a...    None       San Juan\n13                   Flu outbreak in Galveston, Texas    None      Galveston\n14             Zika alert aEUR\" Manila now threatened    None         Manila\n15                     Zika afflicts 7 in Iloilo City    None         Iloilo\n16               New Los Angeles Hairstyle goes Viral    None    Los Angeles\n17                      Louisiana Zika cases up to 26    None           None\n18               Orlando volunteers aid Zika research    None        Orlando\n19                Zika infects pregnant woman in Cebu    None           None\n20                Chicago's First Zika Case Confirmed    None        Chicago\n21              Tampa Bay Area Zika Case Count Climbs    None          Tampa\n22     Bad Water Leads to Sickness in Flint, Michigan    None          Flint\n23                     Baltimore plans for Zika virus    None      Baltimore\n24          London Health Unit Tracks Mad Cow Disease    None         London",
      "text/html": "<div>\n<style scoped>\n    .dataframe tbody tr th:only-of-type {\n        vertical-align: middle;\n    }\n\n    .dataframe tbody tr th {\n        vertical-align: top;\n    }\n\n    .dataframe thead th {\n        text-align: right;\n    }\n</style>\n<table border=\"1\" class=\"dataframe\">\n  <thead>\n    <tr style=\"text-align: right;\">\n      <th></th>\n      <th>headline</th>\n      <th>country</th>\n      <th>city</th>\n    </tr>\n  </thead>\n  <tbody>\n    <tr>\n      <th>0</th>\n      <td>Zika Outbreak Hits Miami</td>\n      <td>None</td>\n      <td>Miami</td>\n    </tr>\n    <tr>\n      <th>1</th>\n      <td>Could Zika Reach New York City?</td>\n      <td>None</td>\n      <td>New York City</td>\n    </tr>\n    <tr>\n      <th>2</th>\n      <td>First Case of Zika in Miami Beach</td>\n      <td>None</td>\n      <td>Miami Beach</td>\n    </tr>\n    <tr>\n      <th>3</th>\n      <td>Mystery Virus Spreads in Recife, Brazil</td>\n      <td>Brazil</td>\n      <td>Recife</td>\n    </tr>\n    <tr>\n      <th>4</th>\n      <td>Dallas man comes down with case of Zika</td>\n      <td>None</td>\n      <td>Dallas</td>\n    </tr>\n    <tr>\n      <th>5</th>\n      <td>Trinidad confirms first Zika case</td>\n      <td>None</td>\n      <td>Trinidad</td>\n    </tr>\n    <tr>\n      <th>6</th>\n      <td>Zika Concerns are Spreading in Houston</td>\n      <td>None</td>\n      <td>Houston</td>\n    </tr>\n    <tr>\n      <th>7</th>\n      <td>Geneve Scientists Battle to Find Cure</td>\n      <td>None</td>\n      <td>Geneve</td>\n    </tr>\n    <tr>\n      <th>8</th>\n      <td>The CDC in Atlanta is Growing Worried</td>\n      <td>None</td>\n      <td>Atlanta</td>\n    </tr>\n    <tr>\n      <th>9</th>\n      <td>Zika Infested Monkeys in Sao Paulo</td>\n      <td>None</td>\n      <td>Sao Paulo</td>\n    </tr>\n    <tr>\n      <th>10</th>\n      <td>Brownsville teen contracts Zika virus</td>\n      <td>None</td>\n      <td>Brownsville</td>\n    </tr>\n    <tr>\n      <th>11</th>\n      <td>Mosquito control efforts in St. Louis take new...</td>\n      <td>None</td>\n      <td>St. Louis</td>\n    </tr>\n    <tr>\n      <th>12</th>\n      <td>San Juan reports 1st U.S. Zika-related death a...</td>\n      <td>None</td>\n      <td>San Juan</td>\n    </tr>\n    <tr>\n      <th>13</th>\n      <td>Flu outbreak in Galveston, Texas</td>\n      <td>None</td>\n      <td>Galveston</td>\n    </tr>\n    <tr>\n      <th>14</th>\n      <td>Zika alert aEUR\" Manila now threatened</td>\n      <td>None</td>\n      <td>Manila</td>\n    </tr>\n    <tr>\n      <th>15</th>\n      <td>Zika afflicts 7 in Iloilo City</td>\n      <td>None</td>\n      <td>Iloilo</td>\n    </tr>\n    <tr>\n      <th>16</th>\n      <td>New Los Angeles Hairstyle goes Viral</td>\n      <td>None</td>\n      <td>Los Angeles</td>\n    </tr>\n    <tr>\n      <th>17</th>\n      <td>Louisiana Zika cases up to 26</td>\n      <td>None</td>\n      <td>None</td>\n    </tr>\n    <tr>\n      <th>18</th>\n      <td>Orlando volunteers aid Zika research</td>\n      <td>None</td>\n      <td>Orlando</td>\n    </tr>\n    <tr>\n      <th>19</th>\n      <td>Zika infects pregnant woman in Cebu</td>\n      <td>None</td>\n      <td>None</td>\n    </tr>\n    <tr>\n      <th>20</th>\n      <td>Chicago's First Zika Case Confirmed</td>\n      <td>None</td>\n      <td>Chicago</td>\n    </tr>\n    <tr>\n      <th>21</th>\n      <td>Tampa Bay Area Zika Case Count Climbs</td>\n      <td>None</td>\n      <td>Tampa</td>\n    </tr>\n    <tr>\n      <th>22</th>\n      <td>Bad Water Leads to Sickness in Flint, Michigan</td>\n      <td>None</td>\n      <td>Flint</td>\n    </tr>\n    <tr>\n      <th>23</th>\n      <td>Baltimore plans for Zika virus</td>\n      <td>None</td>\n      <td>Baltimore</td>\n    </tr>\n    <tr>\n      <th>24</th>\n      <td>London Health Unit Tracks Mad Cow Disease</td>\n      <td>None</td>\n      <td>London</td>\n    </tr>\n  </tbody>\n</table>\n</div>"
     },
     "metadata": {},
     "execution_count": 3
    }
   ],
   "source": [
    "# Read previous file\n",
    "df = pd.read_json('geo-headlines.json')\n",
    "df[:25]"
   ]
  },
  {
   "cell_type": "code",
   "execution_count": 4,
   "metadata": {
    "tags": [
     "outputPrepend"
    ]
   },
   "outputs": [
    {
     "output_type": "execute_result",
     "data": {
      "text/plain": "[('US', 29.42412, -98.49363, 1469845),\n ('CL', -33.59473, -71.60746, 85651),\n ('PY', -25.42126, -57.54725, 55754),\n ('PH', 14.94659, 120.08673, 34217),\n ('PH', 15.3062, 120.856, 26247)]"
     },
     "metadata": {},
     "execution_count": 4
    }
   ],
   "source": [
    "def lookup_city_info(city):\n",
    "    \"\"\"Looks up city information from the geonamescache.  \n",
    "    Returns city tuples sorted by decreasing population\"\"\"\n",
    "    data = []\n",
    "    for cstruct in gc.get_cities_by_name(city):\n",
    "        entry = list(cstruct.values())[0]\n",
    "        data.append((entry['countrycode'], entry['latitude'], entry['longitude'], entry['population']))\n",
    "    data = sorted(data, key=lambda e: e[3], reverse=True)\n",
    "    return data\n",
    "\n",
    "lookup_city_info('San Antonio')"
   ]
  },
  {
   "cell_type": "code",
   "execution_count": 5,
   "metadata": {},
   "outputs": [
    {
     "output_type": "execute_result",
     "data": {
      "text/plain": "0     (US, 25.77427, -80.19366, 441003)\n1    (US, 40.71427, -74.00597, 8175133)\n2      (US, 25.79065, -80.13005, 92312)\n3    (BR, -8.05389, -34.88111, 1478098)\n4    (US, 32.78306, -96.80667, 1300092)\n5         (BO, -14.83333, -64.9, 84259)\n6    (US, 29.76328, -95.36327, 2296224)\n7              (None, None, None, None)\n8       (US, 33.749, -84.38798, 463878)\n9              (None, None, None, None)\ndtype: object"
     },
     "metadata": {},
     "execution_count": 5
    }
   ],
   "source": [
    "\n",
    "def determine_city_coords(citytuples, countrycode=None):\n",
    "    \"\"\"Takes a list of city data tuples and a country code to select best one\"\"\"\n",
    "    country_match = [x for x in filter(lambda city: city[0] == countrycode, citytuples)]\n",
    "    if country_match:\n",
    "        #print(f'Found country match {countrycode} -> {country_match}')\n",
    "        return country_match[0]\n",
    "    return citytuples[0] if len(citytuples) > 0 else []\n",
    "\n",
    "def lookup_geo_coords(row, debug=False):\n",
    "    if debug: print(f'\\nLooking up {row.headline}')\n",
    "    country_code = None\n",
    "    if row.country:\n",
    "        # If we extracted a country use that to pick city\n",
    "        country_code = isomapper(row.country)\n",
    "        if debug: print(f'Found country: {country_code}')\n",
    "    cities = lookup_city_info(row.city)\n",
    "    if debug: print(f'Found cities: {cities}')\n",
    "    if len(cities) > 0:\n",
    "        city_info = determine_city_coords(cities, country_code)\n",
    "        if debug: print(f'Selected city info: {city_info}')\n",
    "        return city_info\n",
    "    else:\n",
    "        return (None, None, None, None)\n",
    "    \n",
    "coords = df.apply(lookup_geo_coords, axis=1)\n",
    "coords[:10]"
   ]
  },
  {
   "cell_type": "markdown",
   "metadata": {},
   "source": [
    "# Clean up results"
   ]
  },
  {
   "cell_type": "code",
   "execution_count": 6,
   "metadata": {
    "tags": [
     "outputPrepend",
     "outputPrepend"
    ]
   },
   "outputs": [
    {
     "output_type": "execute_result",
     "data": {
      "text/plain": "                                             headline country           city  \\\n0                            Zika Outbreak Hits Miami    None          Miami   \n1                     Could Zika Reach New York City?    None  New York City   \n2                   First Case of Zika in Miami Beach    None    Miami Beach   \n3             Mystery Virus Spreads in Recife, Brazil  Brazil         Recife   \n4             Dallas man comes down with case of Zika    None         Dallas   \n5                   Trinidad confirms first Zika case    None       Trinidad   \n6              Zika Concerns are Spreading in Houston    None        Houston   \n8               The CDC in Atlanta is Growing Worried    None        Atlanta   \n10              Brownsville teen contracts Zika virus    None    Brownsville   \n11  Mosquito control efforts in St. Louis take new...    None      St. Louis   \n\n   countrycode  latitude  longitude  \n0           US  25.77427  -80.19366  \n1           US  40.71427  -74.00597  \n2           US  25.79065  -80.13005  \n3           BR  -8.05389  -34.88111  \n4           US  32.78306  -96.80667  \n5           BO -14.83333  -64.90000  \n6           US  29.76328  -95.36327  \n8           US  33.74900  -84.38798  \n10          US  25.90175  -97.49748  \n11          US  38.62727  -90.19789  ",
      "text/html": "<div>\n<style scoped>\n    .dataframe tbody tr th:only-of-type {\n        vertical-align: middle;\n    }\n\n    .dataframe tbody tr th {\n        vertical-align: top;\n    }\n\n    .dataframe thead th {\n        text-align: right;\n    }\n</style>\n<table border=\"1\" class=\"dataframe\">\n  <thead>\n    <tr style=\"text-align: right;\">\n      <th></th>\n      <th>headline</th>\n      <th>country</th>\n      <th>city</th>\n      <th>countrycode</th>\n      <th>latitude</th>\n      <th>longitude</th>\n    </tr>\n  </thead>\n  <tbody>\n    <tr>\n      <th>0</th>\n      <td>Zika Outbreak Hits Miami</td>\n      <td>None</td>\n      <td>Miami</td>\n      <td>US</td>\n      <td>25.77427</td>\n      <td>-80.19366</td>\n    </tr>\n    <tr>\n      <th>1</th>\n      <td>Could Zika Reach New York City?</td>\n      <td>None</td>\n      <td>New York City</td>\n      <td>US</td>\n      <td>40.71427</td>\n      <td>-74.00597</td>\n    </tr>\n    <tr>\n      <th>2</th>\n      <td>First Case of Zika in Miami Beach</td>\n      <td>None</td>\n      <td>Miami Beach</td>\n      <td>US</td>\n      <td>25.79065</td>\n      <td>-80.13005</td>\n    </tr>\n    <tr>\n      <th>3</th>\n      <td>Mystery Virus Spreads in Recife, Brazil</td>\n      <td>Brazil</td>\n      <td>Recife</td>\n      <td>BR</td>\n      <td>-8.05389</td>\n      <td>-34.88111</td>\n    </tr>\n    <tr>\n      <th>4</th>\n      <td>Dallas man comes down with case of Zika</td>\n      <td>None</td>\n      <td>Dallas</td>\n      <td>US</td>\n      <td>32.78306</td>\n      <td>-96.80667</td>\n    </tr>\n    <tr>\n      <th>5</th>\n      <td>Trinidad confirms first Zika case</td>\n      <td>None</td>\n      <td>Trinidad</td>\n      <td>BO</td>\n      <td>-14.83333</td>\n      <td>-64.90000</td>\n    </tr>\n    <tr>\n      <th>6</th>\n      <td>Zika Concerns are Spreading in Houston</td>\n      <td>None</td>\n      <td>Houston</td>\n      <td>US</td>\n      <td>29.76328</td>\n      <td>-95.36327</td>\n    </tr>\n    <tr>\n      <th>8</th>\n      <td>The CDC in Atlanta is Growing Worried</td>\n      <td>None</td>\n      <td>Atlanta</td>\n      <td>US</td>\n      <td>33.74900</td>\n      <td>-84.38798</td>\n    </tr>\n    <tr>\n      <th>10</th>\n      <td>Brownsville teen contracts Zika virus</td>\n      <td>None</td>\n      <td>Brownsville</td>\n      <td>US</td>\n      <td>25.90175</td>\n      <td>-97.49748</td>\n    </tr>\n    <tr>\n      <th>11</th>\n      <td>Mosquito control efforts in St. Louis take new...</td>\n      <td>None</td>\n      <td>St. Louis</td>\n      <td>US</td>\n      <td>38.62727</td>\n      <td>-90.19789</td>\n    </tr>\n  </tbody>\n</table>\n</div>"
     },
     "metadata": {},
     "execution_count": 6
    }
   ],
   "source": [
    "# Add geo info to data frame\n",
    "df['countrycode'] = [cc for (cc,_,_,_) in coords]\n",
    "df['latitude'] = [lat for (_,lat,_,_) in coords]\n",
    "df['longitude'] = [lng for (_,_,lng,_) in coords]\n",
    "#df['population'] = [pop for (_,_,_,pop) in coords]\n",
    "\n",
    "# Drop rows with NA\n",
    "df.dropna(axis=0, thresh=2)  # missing two geo coords - ont working?\n",
    "df = df[df.latitude.notna()]\n",
    "df[:10]\n",
    "\n",
    "\n"
   ]
  },
  {
   "cell_type": "code",
   "execution_count": null,
   "metadata": {},
   "outputs": [],
   "source": []
  }
 ],
 "metadata": {
  "kernelspec": {
   "display_name": "Python 3",
   "language": "python",
   "name": "python3"
  },
  "language_info": {
   "codemirror_mode": {
    "name": "ipython",
    "version": 3
   },
   "file_extension": ".py",
   "mimetype": "text/x-python",
   "name": "python",
   "nbconvert_exporter": "python",
   "pygments_lexer": "ipython3",
   "version": "3.7.6-final"
  }
 },
 "nbformat": 4,
 "nbformat_minor": 4
}